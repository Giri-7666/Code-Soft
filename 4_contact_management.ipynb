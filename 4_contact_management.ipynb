{
 "cells": [
  {
   "cell_type": "code",
   "execution_count": null,
   "id": "fbb742af",
   "metadata": {},
   "outputs": [],
   "source": [
    "import tkinter as tk\n",
    "from tkinter import messagebox"
   ]
  },
  {
   "cell_type": "code",
   "execution_count": null,
   "id": "324ec18a",
   "metadata": {
    "lines_to_next_cell": 1
   },
   "outputs": [],
   "source": [
    "contacts = []"
   ]
  },
  {
   "cell_type": "code",
   "execution_count": null,
   "id": "1eb9f370",
   "metadata": {
    "lines_to_next_cell": 1
   },
   "outputs": [],
   "source": [
    "def add_contact():\n",
    "    name = entry_name.get()\n",
    "    phone_number = entry_phone.get()\n",
    "    email = entry_email.get()\n",
    "    address = entry_address.get()\n",
    "\n",
    "    if name and phone_number:\n",
    "        contact = {\n",
    "            'name': name,\n",
    "            'phone_number': phone_number,\n",
    "            'email': email,\n",
    "            'address': address\n",
    "        }\n",
    "\n",
    "        contacts.append(contact)\n",
    "        update_contact_list()\n",
    "        clear_entries()\n",
    "\n",
    "        messagebox.showinfo(\"Success\", f\"Contact {name} added successfully!\")\n",
    "    else:\n",
    "        messagebox.showerror(\"Error\", \"Name and phone number are required!\")"
   ]
  },
  {
   "cell_type": "code",
   "execution_count": null,
   "id": "68cc2297",
   "metadata": {
    "lines_to_next_cell": 1
   },
   "outputs": [],
   "source": [
    "def update_contact_list():\n",
    "    listbox.delete(0, tk.END)\n",
    "    for contact in contacts:\n",
    "        listbox.insert(tk.END, f\"{contact['name']} - {contact['phone_number']}\")"
   ]
  },
  {
   "cell_type": "code",
   "execution_count": null,
   "id": "a258beff",
   "metadata": {
    "lines_to_next_cell": 1
   },
   "outputs": [],
   "source": [
    "def clear_entries():\n",
    "    entry_name.delete(0, tk.END)\n",
    "    entry_phone.delete(0, tk.END)\n",
    "    entry_email.delete(0, tk.END)\n",
    "    entry_address.delete(0, tk.END)"
   ]
  },
  {
   "cell_type": "code",
   "execution_count": null,
   "id": "a82ae7cc",
   "metadata": {
    "lines_to_next_cell": 1
   },
   "outputs": [],
   "source": [
    "def search_contact():\n",
    "    query = entry_search.get()\n",
    "    search_results = []\n",
    "\n",
    "    for contact in contacts:\n",
    "        if query.lower() in contact['name'].lower() or query in contact['phone_number']:\n",
    "            search_results.append(contact)\n",
    "\n",
    "    update_search_results(search_results)"
   ]
  },
  {
   "cell_type": "code",
   "execution_count": null,
   "id": "8d118426",
   "metadata": {
    "lines_to_next_cell": 1
   },
   "outputs": [],
   "source": [
    "def update_search_results(results):\n",
    "    listbox.delete(0, tk.END)\n",
    "    for result in results:\n",
    "        listbox.insert(tk.END, f\"{result['name']} - {result['phone_number']}\")"
   ]
  },
  {
   "cell_type": "code",
   "execution_count": null,
   "id": "10f8007a",
   "metadata": {
    "lines_to_next_cell": 1
   },
   "outputs": [],
   "source": [
    "def update_contact():\n",
    "    selected_index = listbox.curselection()\n",
    "    \n",
    "    if selected_index:\n",
    "        index = selected_index[0]\n",
    "        contact = contacts[index]\n",
    "\n",
    "        new_phone_number = entry_new_phone.get()\n",
    "        new_email = entry_new_email.get()\n",
    "        new_address = entry_new_address.get()\n",
    "\n",
    "        if new_phone_number:\n",
    "            contact['phone_number'] = new_phone_number\n",
    "        if new_email:\n",
    "            contact['email'] = new_email\n",
    "        if new_address:\n",
    "            contact['address'] = new_address\n",
    "\n",
    "        update_contact_list()\n",
    "        clear_update_entries()\n",
    "\n",
    "        messagebox.showinfo(\"Success\", f\"Contact {contact['name']} updated successfully!\")\n",
    "    else:\n",
    "        messagebox.showerror(\"Error\", \"Please select a contact to update.\")"
   ]
  },
  {
   "cell_type": "code",
   "execution_count": null,
   "id": "b8bee547",
   "metadata": {
    "lines_to_next_cell": 1
   },
   "outputs": [],
   "source": [
    "def delete_contact():\n",
    "    selected_index = listbox.curselection()\n",
    "\n",
    "    if selected_index:\n",
    "        index = selected_index[0]\n",
    "        deleted_contact = contacts.pop(index)\n",
    "\n",
    "        update_contact_list()\n",
    "        clear_update_entries()\n",
    "\n",
    "        messagebox.showinfo(\"Success\", f\"Contact {deleted_contact['name']} deleted successfully!\")\n",
    "    else:\n",
    "        messagebox.showerror(\"Error\", \"Please select a contact to delete.\")"
   ]
  },
  {
   "cell_type": "code",
   "execution_count": null,
   "id": "5983281f",
   "metadata": {
    "lines_to_next_cell": 1
   },
   "outputs": [],
   "source": [
    "def clear_update_entries():\n",
    "    entry_new_phone.delete(0, tk.END)\n",
    "    entry_new_email.delete(0, tk.END)\n",
    "    entry_new_address.delete(0, tk.END)"
   ]
  },
  {
   "cell_type": "code",
   "execution_count": null,
   "id": "824ea428",
   "metadata": {
    "lines_to_next_cell": 1
   },
   "outputs": [],
   "source": [
    "def view_all_contacts():\n",
    "    update_contact_list()"
   ]
  },
  {
   "cell_type": "code",
   "execution_count": null,
   "id": "94e0ab6a",
   "metadata": {},
   "outputs": [],
   "source": [
    "# Create main window\n",
    "root = tk.Tk()\n",
    "root.title(\"Contact Management System\")"
   ]
  },
  {
   "cell_type": "code",
   "execution_count": null,
   "id": "1f83b635",
   "metadata": {},
   "outputs": [],
   "source": [
    "# Labels and Entries for adding a contact\n",
    "label_name = tk.Label(root, text=\"Name:\")\n",
    "label_name.grid(row=0, column=0, sticky=tk.W)\n",
    "entry_name = tk.Entry(root)\n",
    "entry_name.grid(row=0, column=1)"
   ]
  },
  {
   "cell_type": "code",
   "execution_count": null,
   "id": "9bdda087",
   "metadata": {},
   "outputs": [],
   "source": [
    "label_phone = tk.Label(root, text=\"Phone:\")\n",
    "label_phone.grid(row=1, column=0, sticky=tk.W)\n",
    "entry_phone = tk.Entry(root)\n",
    "entry_phone.grid(row=1, column=1)"
   ]
  },
  {
   "cell_type": "code",
   "execution_count": null,
   "id": "36fc1a12",
   "metadata": {},
   "outputs": [],
   "source": [
    "label_email = tk.Label(root, text=\"Email:\")\n",
    "label_email.grid(row=2, column=0, sticky=tk.W)\n",
    "entry_email = tk.Entry(root)\n",
    "entry_email.grid(row=2, column=1)"
   ]
  },
  {
   "cell_type": "code",
   "execution_count": null,
   "id": "ab6c7f1c",
   "metadata": {},
   "outputs": [],
   "source": [
    "label_address = tk.Label(root, text=\"Address:\")\n",
    "label_address.grid(row=3, column=0, sticky=tk.W)\n",
    "entry_address = tk.Entry(root)\n",
    "entry_address.grid(row=3, column=1)"
   ]
  },
  {
   "cell_type": "code",
   "execution_count": null,
   "id": "928c4983",
   "metadata": {},
   "outputs": [],
   "source": [
    "button_add = tk.Button(root, text=\"Add Contact\", command=add_contact)\n",
    "button_add.grid(row=4, column=1, pady=10)"
   ]
  },
  {
   "cell_type": "code",
   "execution_count": null,
   "id": "f125f383",
   "metadata": {},
   "outputs": [],
   "source": [
    "# Listbox for displaying contacts\n",
    "listbox = tk.Listbox(root, width=40, height=10)\n",
    "listbox.grid(row=0, column=2, rowspan=10, padx=10)"
   ]
  },
  {
   "cell_type": "code",
   "execution_count": null,
   "id": "39ea6637",
   "metadata": {},
   "outputs": [],
   "source": [
    "# Labels and Entries for searching contacts\n",
    "label_search = tk.Label(root, text=\"Search:\")\n",
    "label_search.grid(row=10, column=0, sticky=tk.W)\n",
    "entry_search = tk.Entry(root)\n",
    "entry_search.grid(row=10, column=1)"
   ]
  },
  {
   "cell_type": "code",
   "execution_count": null,
   "id": "5969b9bb",
   "metadata": {},
   "outputs": [],
   "source": [
    "button_search = tk.Button(root, text=\"Search\", command=search_contact)\n",
    "button_search.grid(row=10, column=2, pady=10)"
   ]
  },
  {
   "cell_type": "code",
   "execution_count": null,
   "id": "f95bebed",
   "metadata": {},
   "outputs": [],
   "source": [
    "# Labels and Entries for updating contacts\n",
    "label_new_phone = tk.Label(root, text=\"New Phone:\")\n",
    "label_new_phone.grid(row=11, column=0, sticky=tk.W)\n",
    "entry_new_phone = tk.Entry(root)\n",
    "entry_new_phone.grid(row=11, column=1)"
   ]
  },
  {
   "cell_type": "code",
   "execution_count": null,
   "id": "6f4067ea",
   "metadata": {},
   "outputs": [],
   "source": [
    "label_new_email = tk.Label(root, text=\"New Email:\")\n",
    "label_new_email.grid(row=12, column=0, sticky=tk.W)\n",
    "entry_new_email = tk.Entry(root)\n",
    "entry_new_email.grid(row=12, column=1)"
   ]
  },
  {
   "cell_type": "code",
   "execution_count": null,
   "id": "4076225d",
   "metadata": {},
   "outputs": [],
   "source": [
    "label_new_address = tk.Label(root, text=\"New Address:\")\n",
    "label_new_address.grid(row=13, column=0, sticky=tk.W)\n",
    "entry_new_address = tk.Entry(root)\n",
    "entry_new_address.grid(row=13, column=1)"
   ]
  },
  {
   "cell_type": "code",
   "execution_count": null,
   "id": "025a052a",
   "metadata": {},
   "outputs": [],
   "source": [
    "button_update = tk.Button(root, text=\"Update Contact\", command=update_contact)\n",
    "button_update.grid(row=14, column=1, pady=10)"
   ]
  },
  {
   "cell_type": "code",
   "execution_count": null,
   "id": "07054a13",
   "metadata": {},
   "outputs": [],
   "source": [
    "# Button for deleting contacts\n",
    "button_delete = tk.Button(root, text=\"Delete Contact\", command=delete_contact)\n",
    "button_delete.grid(row=14, column=2, pady=10)"
   ]
  },
  {
   "cell_type": "code",
   "execution_count": null,
   "id": "c73a7a27",
   "metadata": {},
   "outputs": [],
   "source": [
    "# Button for viewing all contacts\n",
    "button_view_all = tk.Button(root, text=\"View All Contacts\", command=view_all_contacts)\n",
    "button_view_all.grid(row=15, column=1, pady=10)"
   ]
  },
  {
   "cell_type": "code",
   "execution_count": null,
   "id": "cd9b2e8a",
   "metadata": {},
   "outputs": [],
   "source": [
    "# Start the main loop\n",
    "root.mainloop()"
   ]
  }
 ],
 "metadata": {
  "jupytext": {
   "cell_metadata_filter": "-all",
   "main_language": "python",
   "notebook_metadata_filter": "-all"
  }
 },
 "nbformat": 4,
 "nbformat_minor": 5
}
